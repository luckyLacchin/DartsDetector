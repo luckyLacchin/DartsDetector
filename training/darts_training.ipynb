{
 "cells": [
  {
   "cell_type": "code",
   "execution_count": null,
   "metadata": {},
   "outputs": [],
   "source": [
    "!pip install ultralytics\n",
    "!pip install roboflow"
   ]
  },
  {
   "cell_type": "code",
   "execution_count": null,
   "metadata": {},
   "outputs": [],
   "source": [
    "#get dataset for detecting darts (also the different parts: tip, barrel, shaft, flight) and dart board\n",
    "from roboflow import Roboflow\n",
    "rf = Roboflow(api_key=\"bFzrCBVIdBMKCbCsz9rQ\")\n",
    "project = rf.workspace(\"julian-mowkv\").project(\"detectdarts\")\n",
    "version = project.version(5)\n",
    "dataset = version.download(\"yolov5\")\n",
    "                \n"
   ]
  },
  {
   "cell_type": "code",
   "execution_count": null,
   "metadata": {},
   "outputs": [],
   "source": [
    "#get dataset for detecting bull\n",
    "!pip install roboflow\n",
    "\n",
    "from roboflow import Roboflow\n",
    "rf = Roboflow(api_key=\"bFzrCBVIdBMKCbCsz9rQ\")\n",
    "project = rf.workspace(\"valami\").project(\"darts-ahmgr\")\n",
    "version = project.version(1)\n",
    "dataset = version.download(\"yolov5\")"
   ]
  },
  {
   "cell_type": "code",
   "execution_count": 6,
   "metadata": {},
   "outputs": [],
   "source": [
    "dataset.location"
   ]
  },
  {
   "cell_type": "code",
   "execution_count": null,
   "metadata": {},
   "outputs": [],
   "source": [
    "# Training\n",
    "\n",
    "!yolo task=detect mode=train model=yolov5x.pt data={dataset.location}/data.yaml epochs=200 imgsz=416\n"
   ]
  }
 ],
 "metadata": {
  "kernelspec": {
   "display_name": "Python 3",
   "language": "python",
   "name": "python3"
  },
  "language_info": {
   "codemirror_mode": {
    "name": "ipython",
    "version": 3
   },
   "file_extension": ".py",
   "mimetype": "text/x-python",
   "name": "python",
   "nbconvert_exporter": "python",
   "pygments_lexer": "ipython3",
   "version": "3.9.13"
  }
 },
 "nbformat": 4,
 "nbformat_minor": 2
}
